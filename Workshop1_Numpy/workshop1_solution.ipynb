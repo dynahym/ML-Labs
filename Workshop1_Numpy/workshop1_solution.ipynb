{
 "cells": [
  {
   "cell_type": "code",
   "execution_count": 243,
   "metadata": {},
   "outputs": [],
   "source": [
    "import numpy as np"
   ]
  },
  {
   "cell_type": "code",
   "execution_count": 244,
   "metadata": {},
   "outputs": [
    {
     "data": {
      "text/plain": [
       "array([[1, 5, 5, 0, 3],\n",
       "       [2, 0, 5, 0, 3],\n",
       "       [0, 0, 0, 0, 0],\n",
       "       [2, 0, 0, 4, 0],\n",
       "       [0, 4, 2, 0, 0]])"
      ]
     },
     "execution_count": 244,
     "metadata": {},
     "output_type": "execute_result"
    }
   ],
   "source": [
    "Reply = np.array([\n",
    "    [1, 5, 5, 0, 3],\n",
    "    [2, 0, 5, 0, 3],\n",
    "    [0, 0, 0, 0, 0],\n",
    "    [2, 0, 0, 4, 0],\n",
    "    [0, 4, 2, 0, 0]\n",
    "])\n",
    "\n",
    "Reply"
   ]
  },
  {
   "cell_type": "code",
   "execution_count": 245,
   "metadata": {},
   "outputs": [
    {
     "data": {
      "text/plain": [
       "array([[0, 2, 4, 0, 0],\n",
       "       [0, 0, 0, 0, 0],\n",
       "       [0, 0, 0, 0, 0],\n",
       "       [0, 0, 0, 0, 3],\n",
       "       [0, 2, 5, 0, 0]])"
      ]
     },
     "execution_count": 245,
     "metadata": {},
     "output_type": "execute_result"
    }
   ],
   "source": [
    "Retweet = np.array([\n",
    "    [0, 2, 4, 0, 0],\n",
    "    [0, 0, 0, 0, 0],\n",
    "    [0, 0, 0, 0, 0],\n",
    "    [0, 0, 0, 0, 3],\n",
    "    [0, 2, 5, 0, 0]\n",
    "])\n",
    "\n",
    "Retweet"
   ]
  },
  {
   "cell_type": "code",
   "execution_count": 246,
   "metadata": {},
   "outputs": [
    {
     "data": {
      "text/plain": [
       "array([[2, 5, 1, 0, 3],\n",
       "       [0, 0, 0, 0, 0],\n",
       "       [0, 5, 0, 3, 3],\n",
       "       [1, 0, 0, 4, 1],\n",
       "       [0, 0, 9, 0, 0]])"
      ]
     },
     "execution_count": 246,
     "metadata": {},
     "output_type": "execute_result"
    }
   ],
   "source": [
    "Like = np.array([\n",
    "    [2, 5, 1, 0, 3],\n",
    "    [0, 0, 0, 0, 0],\n",
    "    [0, 5, 0, 3, 3],\n",
    "    [1, 0, 0, 4, 1],\n",
    "    [0, 0, 9, 0, 0]\n",
    "])\n",
    "\n",
    "Like"
   ]
  },
  {
   "cell_type": "code",
   "execution_count": 247,
   "metadata": {},
   "outputs": [
    {
     "data": {
      "text/plain": [
       "array([ 2,  5, 10,  4,  3])"
      ]
     },
     "execution_count": 247,
     "metadata": {},
     "output_type": "execute_result"
    }
   ],
   "source": [
    "Post = np.array([2, 5, 10, 4, 3])\n",
    "\n",
    "Post"
   ]
  },
  {
   "cell_type": "markdown",
   "metadata": {},
   "source": [
    "# Engagement Statistics"
   ]
  },
  {
   "cell_type": "code",
   "execution_count": 248,
   "metadata": {},
   "outputs": [
    {
     "data": {
      "text/plain": [
       "0"
      ]
     },
     "execution_count": 248,
     "metadata": {},
     "output_type": "execute_result"
    }
   ],
   "source": [
    "# 1. Find the user who replies more than others.\n",
    "\n",
    "reply_out = Reply.sum(axis=1)\n",
    "max_reply = reply_out.argmax()\n",
    "\n",
    "max_reply"
   ]
  },
  {
   "cell_type": "code",
   "execution_count": 249,
   "metadata": {},
   "outputs": [
    {
     "data": {
      "text/plain": [
       "4"
      ]
     },
     "execution_count": 249,
     "metadata": {},
     "output_type": "execute_result"
    }
   ],
   "source": [
    "# 2. Find the user who retweets more than others.\n",
    "\n",
    "retweet_out = Retweet.sum(axis=1)\n",
    "max_retweet = retweet_out.argmax()\n",
    "\n",
    "max_retweet"
   ]
  },
  {
   "cell_type": "code",
   "execution_count": 250,
   "metadata": {},
   "outputs": [
    {
     "data": {
      "text/plain": [
       "[0, 1, 3, 4]"
      ]
     },
     "execution_count": 250,
     "metadata": {},
     "output_type": "execute_result"
    }
   ],
   "source": [
    "# 3. Find users who replied or retweeted at least once.\n",
    "\n",
    "reply_retweet_out = np.where((reply_out + retweet_out) > 0)[0]\n",
    "\n",
    "list(reply_retweet_out)"
   ]
  },
  {
   "cell_type": "code",
   "execution_count": 251,
   "metadata": {},
   "outputs": [
    {
     "data": {
      "text/plain": [
       "array([2, 0, 0, 4, 0])"
      ]
     },
     "execution_count": 251,
     "metadata": {},
     "output_type": "execute_result"
    }
   ],
   "source": [
    "# 4. Display the number of likes each user has given to their own tweets.\n",
    "\n",
    "nbr_self_likes = np.diag(Like)\n",
    "\n",
    "nbr_self_likes"
   ]
  },
  {
   "cell_type": "code",
   "execution_count": 252,
   "metadata": {},
   "outputs": [
    {
     "data": {
      "text/plain": [
       "array([ 9,  0, 11,  2,  9])"
      ]
     },
     "execution_count": 252,
     "metadata": {},
     "output_type": "execute_result"
    }
   ],
   "source": [
    "# 5. Display the number of likes each user has given to tweets other than their own.\n",
    "\n",
    "like_out = Like.sum(axis=1)\n",
    "nbr_notself_likes = like_out - nbr_self_likes\n",
    "\n",
    "nbr_notself_likes"
   ]
  },
  {
   "cell_type": "code",
   "execution_count": 253,
   "metadata": {},
   "outputs": [
    {
     "data": {
      "text/plain": [
       "[3]"
      ]
     },
     "execution_count": 253,
     "metadata": {},
     "output_type": "execute_result"
    }
   ],
   "source": [
    "# 6. Find users who like their own tweets more than they like others' tweets.\n",
    "\n",
    "like_more_self = np.where(nbr_self_likes > nbr_notself_likes)[0]\n",
    "\n",
    "list(like_more_self)"
   ]
  },
  {
   "cell_type": "code",
   "execution_count": 254,
   "metadata": {},
   "outputs": [
    {
     "data": {
      "text/plain": [
       "1"
      ]
     },
     "execution_count": 254,
     "metadata": {},
     "output_type": "execute_result"
    }
   ],
   "source": [
    "# 7. Calculate their number.\n",
    "\n",
    "len(like_more_self)"
   ]
  },
  {
   "cell_type": "code",
   "execution_count": 255,
   "metadata": {},
   "outputs": [
    {
     "data": {
      "text/plain": [
       "array([31, 10, 11, 15, 22])"
      ]
     },
     "execution_count": 255,
     "metadata": {},
     "output_type": "execute_result"
    }
   ],
   "source": [
    "# 8. Display the number of interactions each user has made.\n",
    "\n",
    "total_interactions = reply_out + retweet_out + like_out\n",
    "\n",
    "total_interactions"
   ]
  },
  {
   "cell_type": "markdown",
   "metadata": {},
   "source": [
    "# Interaction Statistics"
   ]
  },
  {
   "cell_type": "code",
   "execution_count": 256,
   "metadata": {},
   "outputs": [
    {
     "data": {
      "text/plain": [
       "array([2, 5, 9, 4, 3])"
      ]
     },
     "execution_count": 256,
     "metadata": {},
     "output_type": "execute_result"
    }
   ],
   "source": [
    "# 1. Display the maximum number of likes each user has received (from users other than themselves).\n",
    "\n",
    "max_likes_in = Like.max(axis=0)\n",
    "\n",
    "max_likes_in"
   ]
  },
  {
   "cell_type": "code",
   "execution_count": 257,
   "metadata": {},
   "outputs": [
    {
     "data": {
      "text/plain": [
       "array([0, 1, 3, 4], dtype=int64)"
      ]
     },
     "execution_count": 257,
     "metadata": {},
     "output_type": "execute_result"
    }
   ],
   "source": [
    "\n",
    "# 2. Find users who have received likes for all their tweets by at least one person other than themselves.\n",
    "\n",
    "users_all_tweets_liked = np.where(max_likes_in >= Post)[0]\n",
    "\n",
    "users_all_tweets_liked\n"
   ]
  },
  {
   "cell_type": "code",
   "execution_count": 258,
   "metadata": {},
   "outputs": [
    {
     "data": {
      "text/plain": [
       "array([3, 3, 3, 2, 4])"
      ]
     },
     "execution_count": 258,
     "metadata": {},
     "output_type": "execute_result"
    }
   ],
   "source": [
    "# 3. Calculate the number of incoming (having at least one interaction).\n",
    "arcs_in = ((Reply + Retweet + Like) > 0).sum(axis=0)\n",
    "\n",
    "arcs_in"
   ]
  },
  {
   "cell_type": "code",
   "execution_count": 259,
   "metadata": {},
   "outputs": [
    {
     "data": {
      "text/plain": [
       "array([4, 3, 3, 3, 2])"
      ]
     },
     "execution_count": 259,
     "metadata": {},
     "output_type": "execute_result"
    }
   ],
   "source": [
    "# 4. Calculate the number of outgoing arcs (having at least one interaction).\n",
    "arcs_out = ((Reply + Retweet + Like) > 0).sum(axis=1)\n",
    "\n",
    "arcs_out"
   ]
  },
  {
   "cell_type": "code",
   "execution_count": 260,
   "metadata": {},
   "outputs": [
    {
     "data": {
      "text/plain": [
       "array([1, 2], dtype=int64)"
      ]
     },
     "execution_count": 260,
     "metadata": {},
     "output_type": "execute_result"
    }
   ],
   "source": [
    "# 5. Find nodes where the number of incoming edges is equal to the number of outgoing edges.\n",
    "\n",
    "in_eq_out = np.where(arcs_in == arcs_out)[0]\n",
    "\n",
    "in_eq_out"
   ]
  },
  {
   "cell_type": "code",
   "execution_count": 261,
   "metadata": {},
   "outputs": [
    {
     "data": {
      "text/plain": [
       "array([[0, 0],\n",
       "       [5, 0]])"
      ]
     },
     "execution_count": 261,
     "metadata": {},
     "output_type": "execute_result"
    }
   ],
   "source": [
    "# 6. Display the likes they have given to each other.\n",
    "\n",
    "likes_other = Like[:, in_eq_out][in_eq_out, :]\n",
    "\n",
    "likes_other"
   ]
  },
  {
   "cell_type": "markdown",
   "metadata": {},
   "source": [
    "# Popularity"
   ]
  },
  {
   "cell_type": "code",
   "execution_count": 271,
   "metadata": {},
   "outputs": [
    {
     "data": {
      "text/plain": [
       "array([[0, 0, 0, 0, 0],\n",
       "       [0, 0, 0, 0, 0],\n",
       "       [0, 0, 0, 0, 0],\n",
       "       [0, 0, 0, 0, 0],\n",
       "       [0, 0, 0, 0, 0]])"
      ]
     },
     "execution_count": 271,
     "metadata": {},
     "output_type": "execute_result"
    }
   ],
   "source": [
    "# Create a diagonal mask for Replies and Likes to exclude self-interactions\n",
    "I = np.eye(5, dtype=int)\n",
    "diagonal_mask = 1 - I\n",
    "\n",
    "Reply_nodiag = Reply * diagonal_mask\n",
    "Like_nodiag = Like * diagonal_mask\n",
    "Retweet_diag = Retweet * I\n",
    "\n",
    "Retweet_diag"
   ]
  },
  {
   "cell_type": "code",
   "execution_count": 273,
   "metadata": {},
   "outputs": [
    {
     "data": {
      "text/plain": [
       "array([[-0.  , -1.25, -2.5 , -0.  , -0.75],\n",
       "       [-1.  , -0.  , -2.5 , -0.  , -1.5 ],\n",
       "       [-0.  ,  0.  , -0.  ,  0.  ,  0.  ],\n",
       "       [-1.  , -0.  , -0.  , -0.  ,  0.  ],\n",
       "       [-0.  , -2.  ,  0.  , -0.  , -0.  ]])"
      ]
     },
     "execution_count": 273,
     "metadata": {},
     "output_type": "execute_result"
    }
   ],
   "source": [
    "# Weighted Reply Score\n",
    "Reply_score = np.where(\n",
    "    Reply_nodiag > Like_nodiag, Reply_nodiag * (-0.5),  # Replies > Likes: multiply Replies by -0.5\n",
    "    np.where(Reply_nodiag == Like_nodiag, Like_nodiag * (-0.25), 0)  # Replies == Likes: multiply Likes by -0.25, else 0\n",
    ")\n",
    "\n",
    "Reply_score"
   ]
  },
  {
   "cell_type": "code",
   "execution_count": null,
   "metadata": {},
   "outputs": [
    {
     "name": "stdout",
     "output_type": "stream",
     "text": [
      "[[0 0 0 0 0]\n",
      " [0 0 0 0 0]\n",
      " [0 0 0 0 0]\n",
      " [0 0 0 0 0]\n",
      " [0 0 0 0 0]]\n"
     ]
    },
    {
     "data": {
      "text/plain": [
       "array([[-0., -0., -0., -0., -0.],\n",
       "       [-0., -0., -0., -0., -0.],\n",
       "       [-0., -0., -0., -0., -0.],\n",
       "       [-0., -0., -0., -0., -0.],\n",
       "       [-0., -0., -0., -0., -0.]])"
      ]
     },
     "execution_count": 269,
     "metadata": {},
     "output_type": "execute_result"
    }
   ],
   "source": [
    "# Weighted Retweet Score\n",
    "Retweet_score = Retweet_diag * (-0.25) # Penalize self-retweets by -0.25\n",
    "\n",
    "Retweet_score"
   ]
  },
  {
   "cell_type": "code",
   "execution_count": 265,
   "metadata": {},
   "outputs": [
    {
     "data": {
      "text/plain": [
       "array([[ 0. ,  7.5,  1. ,  0. ,  4.5],\n",
       "       [ 0. ,  0. ,  0. ,  0. ,  0. ],\n",
       "       [ 0. ,  7.5,  0. ,  4.5,  4.5],\n",
       "       [ 1. ,  0. ,  0. ,  0. ,  1. ],\n",
       "       [ 0. ,  0. , 13.5,  0. ,  0. ]])"
      ]
     },
     "execution_count": 265,
     "metadata": {},
     "output_type": "execute_result"
    }
   ],
   "source": [
    "# Weighted Like Score\n",
    "Post_half = 0.5 * Post  # Half of the number of tweets by each user\n",
    "Like_score = np.where(\n",
    "    Like_nodiag > Post_half, Like_nodiag * 1.5,  # Likes > threshold: multiply Likes by 1.5\n",
    "    Like_nodiag  # Otherwise, keep the score as is\n",
    ")\n",
    "\n",
    "Like_score"
   ]
  },
  {
   "cell_type": "code",
   "execution_count": 274,
   "metadata": {},
   "outputs": [
    {
     "data": {
      "text/plain": [
       "array([[ 0.        ,  2.08333333, -0.5       ,  0.        ,  1.25      ],\n",
       "       [-0.33333333,  0.        , -0.83333333,  0.        , -0.5       ],\n",
       "       [ 0.        ,  2.5       ,  0.        ,  1.5       ,  1.5       ],\n",
       "       [ 0.        ,  0.        ,  0.        ,  0.        ,  0.33333333],\n",
       "       [ 0.        , -0.66666667,  4.5       ,  0.        ,  0.        ]])"
      ]
     },
     "execution_count": 274,
     "metadata": {},
     "output_type": "execute_result"
    }
   ],
   "source": [
    "# Calculate the popularity score for each user for each interaction which is the average of the received scores.\n",
    "\n",
    "avg_popularity_score = (Reply_score + Retweet_score + Like_score) / 3\n",
    "\n",
    "avg_popularity_score"
   ]
  },
  {
   "cell_type": "code",
   "execution_count": null,
   "metadata": {},
   "outputs": [
    {
     "data": {
      "text/plain": [
       "array([-0.06666667,  0.78333333,  0.63333333,  0.3       ,  0.51666667])"
      ]
     },
     "execution_count": 267,
     "metadata": {},
     "output_type": "execute_result"
    }
   ],
   "source": [
    "# Calculate the final score which is the average of the scores from different interactions.\n",
    "\n",
    "popularity_score = avg_popularity_score.mean(axis=0)\n",
    "\n",
    "popularity_score"
   ]
  }
 ],
 "metadata": {
  "kernelspec": {
   "display_name": "Python 3",
   "language": "python",
   "name": "python3"
  },
  "language_info": {
   "codemirror_mode": {
    "name": "ipython",
    "version": 3
   },
   "file_extension": ".py",
   "mimetype": "text/x-python",
   "name": "python",
   "nbconvert_exporter": "python",
   "pygments_lexer": "ipython3",
   "version": "3.12.7"
  }
 },
 "nbformat": 4,
 "nbformat_minor": 2
}
